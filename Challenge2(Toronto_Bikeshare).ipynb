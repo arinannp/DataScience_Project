{
 "cells": [
  {
   "cell_type": "markdown",
   "metadata": {},
   "source": [
    "# Challenge2\n",
    "It might seem to be intuitive that bikeshare users would travel in the reverse direction in the evening than in\n",
    "the morning. But how true is that? If that's the case, would it reduce the value of convenience of bikeshares being available everywhere, and should they just get their own bikes? Do we also need a crew to pick up and restore all the bikes to initial distributions across the city before the next morning?\n",
    "    <br>a) Find out what percentage of bikes are returned to its initial location?\n",
    "    <br>b) How many bikeshare trips usually visit more than just start/end points, but visited some other points before\n",
    "the end of the day?"
   ]
  },
  {
   "cell_type": "markdown",
   "metadata": {},
   "source": [
    "#### Library yang Dipakai"
   ]
  },
  {
   "cell_type": "code",
   "execution_count": 24,
   "metadata": {},
   "outputs": [],
   "source": [
    "import pandas as pd\n",
    "import itertools\n",
    "import numpy as np\n",
    "import matplotlib.pyplot as plt\n",
    "from matplotlib.ticker import NullFormatter\n",
    "import matplotlib.ticker as ticker\n",
    "from sklearn import preprocessing\n",
    "%matplotlib inline"
   ]
  },
  {
   "cell_type": "markdown",
   "metadata": {},
   "source": [
    "#### Load Data CSV ke Data Frame \n",
    "Mengubah Tipe Data Features trip_start_time dan trip_stop_time Menjadi Datetime"
   ]
  },
  {
   "cell_type": "code",
   "execution_count": 25,
   "metadata": {},
   "outputs": [
    {
     "data": {
      "text/html": [
       "<div>\n",
       "<style scoped>\n",
       "    .dataframe tbody tr th:only-of-type {\n",
       "        vertical-align: middle;\n",
       "    }\n",
       "\n",
       "    .dataframe tbody tr th {\n",
       "        vertical-align: top;\n",
       "    }\n",
       "\n",
       "    .dataframe thead th {\n",
       "        text-align: right;\n",
       "    }\n",
       "</style>\n",
       "<table border=\"1\" class=\"dataframe\">\n",
       "  <thead>\n",
       "    <tr style=\"text-align: right;\">\n",
       "      <th></th>\n",
       "      <th>trip_id</th>\n",
       "      <th>trip_duration_seconds</th>\n",
       "      <th>from_station_id</th>\n",
       "      <th>trip_start_time</th>\n",
       "      <th>from_station_name</th>\n",
       "      <th>trip_stop_time</th>\n",
       "      <th>to_station_id</th>\n",
       "      <th>to_station_name</th>\n",
       "      <th>user_type</th>\n",
       "    </tr>\n",
       "  </thead>\n",
       "  <tbody>\n",
       "    <tr>\n",
       "      <th>0</th>\n",
       "      <td>2383648</td>\n",
       "      <td>393</td>\n",
       "      <td>7018</td>\n",
       "      <td>2018-01-01 00:47:00</td>\n",
       "      <td>Bremner Blvd / Rees St</td>\n",
       "      <td>2018-01-01 00:54:00</td>\n",
       "      <td>7176</td>\n",
       "      <td>Bathurst St / Fort York Blvd</td>\n",
       "      <td>Annual Member</td>\n",
       "    </tr>\n",
       "    <tr>\n",
       "      <th>1</th>\n",
       "      <td>2383649</td>\n",
       "      <td>625</td>\n",
       "      <td>7184</td>\n",
       "      <td>2018-01-01 00:52:00</td>\n",
       "      <td>Ossington Ave / College St</td>\n",
       "      <td>2018-01-01 01:03:00</td>\n",
       "      <td>7191</td>\n",
       "      <td>Central Tech  (Harbord St)</td>\n",
       "      <td>Annual Member</td>\n",
       "    </tr>\n",
       "    <tr>\n",
       "      <th>2</th>\n",
       "      <td>2383650</td>\n",
       "      <td>233</td>\n",
       "      <td>7235</td>\n",
       "      <td>2018-01-01 00:55:00</td>\n",
       "      <td>Bay St / College St (West Side) - SMART</td>\n",
       "      <td>2018-01-01 00:59:00</td>\n",
       "      <td>7021</td>\n",
       "      <td>Bay St / Albert St</td>\n",
       "      <td>Annual Member</td>\n",
       "    </tr>\n",
       "    <tr>\n",
       "      <th>3</th>\n",
       "      <td>2383651</td>\n",
       "      <td>1138</td>\n",
       "      <td>7202</td>\n",
       "      <td>2018-01-01 00:57:00</td>\n",
       "      <td>Queen St W / York St (City Hall)</td>\n",
       "      <td>2018-01-01 01:16:00</td>\n",
       "      <td>7020</td>\n",
       "      <td>Phoebe St / Spadina Ave</td>\n",
       "      <td>Annual Member</td>\n",
       "    </tr>\n",
       "    <tr>\n",
       "      <th>4</th>\n",
       "      <td>2383652</td>\n",
       "      <td>703</td>\n",
       "      <td>7004</td>\n",
       "      <td>2018-01-01 01:00:00</td>\n",
       "      <td>University Ave / Elm St</td>\n",
       "      <td>2018-01-01 01:12:00</td>\n",
       "      <td>7060</td>\n",
       "      <td>Princess St / Adelaide St E</td>\n",
       "      <td>Annual Member</td>\n",
       "    </tr>\n",
       "  </tbody>\n",
       "</table>\n",
       "</div>"
      ],
      "text/plain": [
       "   trip_id  trip_duration_seconds  from_station_id     trip_start_time  \\\n",
       "0  2383648                    393             7018 2018-01-01 00:47:00   \n",
       "1  2383649                    625             7184 2018-01-01 00:52:00   \n",
       "2  2383650                    233             7235 2018-01-01 00:55:00   \n",
       "3  2383651                   1138             7202 2018-01-01 00:57:00   \n",
       "4  2383652                    703             7004 2018-01-01 01:00:00   \n",
       "\n",
       "                         from_station_name      trip_stop_time  to_station_id  \\\n",
       "0                   Bremner Blvd / Rees St 2018-01-01 00:54:00           7176   \n",
       "1               Ossington Ave / College St 2018-01-01 01:03:00           7191   \n",
       "2  Bay St / College St (West Side) - SMART 2018-01-01 00:59:00           7021   \n",
       "3         Queen St W / York St (City Hall) 2018-01-01 01:16:00           7020   \n",
       "4                  University Ave / Elm St 2018-01-01 01:12:00           7060   \n",
       "\n",
       "                to_station_name      user_type  \n",
       "0  Bathurst St / Fort York Blvd  Annual Member  \n",
       "1    Central Tech  (Harbord St)  Annual Member  \n",
       "2            Bay St / Albert St  Annual Member  \n",
       "3       Phoebe St / Spadina Ave  Annual Member  \n",
       "4   Princess St / Adelaide St E  Annual Member  "
      ]
     },
     "execution_count": 25,
     "metadata": {},
     "output_type": "execute_result"
    }
   ],
   "source": [
    "df_bikeshare = pd.read_csv(\"Documents/Toronto Bikeshare Data/bikeshare2018/Bike Share Toronto Ridership_Q1 2018.csv\", parse_dates=[\"trip_start_time\",\"trip_stop_time\"])\n",
    "df_bikeshare.head()"
   ]
  },
  {
   "cell_type": "code",
   "execution_count": 26,
   "metadata": {},
   "outputs": [
    {
     "data": {
      "text/plain": [
       "trip_id                           int64\n",
       "trip_duration_seconds             int64\n",
       "from_station_id                   int64\n",
       "trip_start_time          datetime64[ns]\n",
       "from_station_name                object\n",
       "trip_stop_time           datetime64[ns]\n",
       "to_station_id                     int64\n",
       "to_station_name                  object\n",
       "user_type                        object\n",
       "dtype: object"
      ]
     },
     "execution_count": 26,
     "metadata": {},
     "output_type": "execute_result"
    }
   ],
   "source": [
    "df_bikeshare.dtypes"
   ]
  },
  {
   "cell_type": "markdown",
   "metadata": {},
   "source": [
    "#### Menambahkan Features start_time_hour, start_time_minute, stop_time_hour dan stop_time_minute ke DataFrame\n",
    "start_time_hour = ambil data jam pada trip_start_time\n",
    "<br>start_time_minute = ambil data menit pada trip_start_time\n",
    "<br>stop_time_hour = ambil data jam pada trip_stop_time\n",
    "<br>stop_time_minute = ambil data menit pada trip_stop_time"
   ]
  },
  {
   "cell_type": "code",
   "execution_count": 27,
   "metadata": {},
   "outputs": [
    {
     "data": {
      "text/html": [
       "<div>\n",
       "<style scoped>\n",
       "    .dataframe tbody tr th:only-of-type {\n",
       "        vertical-align: middle;\n",
       "    }\n",
       "\n",
       "    .dataframe tbody tr th {\n",
       "        vertical-align: top;\n",
       "    }\n",
       "\n",
       "    .dataframe thead th {\n",
       "        text-align: right;\n",
       "    }\n",
       "</style>\n",
       "<table border=\"1\" class=\"dataframe\">\n",
       "  <thead>\n",
       "    <tr style=\"text-align: right;\">\n",
       "      <th></th>\n",
       "      <th>trip_id</th>\n",
       "      <th>trip_duration_seconds</th>\n",
       "      <th>from_station_id</th>\n",
       "      <th>trip_start_time</th>\n",
       "      <th>from_station_name</th>\n",
       "      <th>trip_stop_time</th>\n",
       "      <th>to_station_id</th>\n",
       "      <th>to_station_name</th>\n",
       "      <th>user_type</th>\n",
       "      <th>start_time_hour</th>\n",
       "      <th>start_time_minute</th>\n",
       "      <th>stop_time_hour</th>\n",
       "      <th>stop_time_minute</th>\n",
       "    </tr>\n",
       "  </thead>\n",
       "  <tbody>\n",
       "    <tr>\n",
       "      <th>0</th>\n",
       "      <td>2383648</td>\n",
       "      <td>393</td>\n",
       "      <td>7018</td>\n",
       "      <td>2018-01-01 00:47:00</td>\n",
       "      <td>Bremner Blvd / Rees St</td>\n",
       "      <td>2018-01-01 00:54:00</td>\n",
       "      <td>7176</td>\n",
       "      <td>Bathurst St / Fort York Blvd</td>\n",
       "      <td>Annual Member</td>\n",
       "      <td>00</td>\n",
       "      <td>47</td>\n",
       "      <td>00</td>\n",
       "      <td>54</td>\n",
       "    </tr>\n",
       "    <tr>\n",
       "      <th>1</th>\n",
       "      <td>2383649</td>\n",
       "      <td>625</td>\n",
       "      <td>7184</td>\n",
       "      <td>2018-01-01 00:52:00</td>\n",
       "      <td>Ossington Ave / College St</td>\n",
       "      <td>2018-01-01 01:03:00</td>\n",
       "      <td>7191</td>\n",
       "      <td>Central Tech  (Harbord St)</td>\n",
       "      <td>Annual Member</td>\n",
       "      <td>00</td>\n",
       "      <td>52</td>\n",
       "      <td>01</td>\n",
       "      <td>03</td>\n",
       "    </tr>\n",
       "    <tr>\n",
       "      <th>2</th>\n",
       "      <td>2383650</td>\n",
       "      <td>233</td>\n",
       "      <td>7235</td>\n",
       "      <td>2018-01-01 00:55:00</td>\n",
       "      <td>Bay St / College St (West Side) - SMART</td>\n",
       "      <td>2018-01-01 00:59:00</td>\n",
       "      <td>7021</td>\n",
       "      <td>Bay St / Albert St</td>\n",
       "      <td>Annual Member</td>\n",
       "      <td>00</td>\n",
       "      <td>55</td>\n",
       "      <td>00</td>\n",
       "      <td>59</td>\n",
       "    </tr>\n",
       "    <tr>\n",
       "      <th>3</th>\n",
       "      <td>2383651</td>\n",
       "      <td>1138</td>\n",
       "      <td>7202</td>\n",
       "      <td>2018-01-01 00:57:00</td>\n",
       "      <td>Queen St W / York St (City Hall)</td>\n",
       "      <td>2018-01-01 01:16:00</td>\n",
       "      <td>7020</td>\n",
       "      <td>Phoebe St / Spadina Ave</td>\n",
       "      <td>Annual Member</td>\n",
       "      <td>00</td>\n",
       "      <td>57</td>\n",
       "      <td>01</td>\n",
       "      <td>16</td>\n",
       "    </tr>\n",
       "    <tr>\n",
       "      <th>4</th>\n",
       "      <td>2383652</td>\n",
       "      <td>703</td>\n",
       "      <td>7004</td>\n",
       "      <td>2018-01-01 01:00:00</td>\n",
       "      <td>University Ave / Elm St</td>\n",
       "      <td>2018-01-01 01:12:00</td>\n",
       "      <td>7060</td>\n",
       "      <td>Princess St / Adelaide St E</td>\n",
       "      <td>Annual Member</td>\n",
       "      <td>01</td>\n",
       "      <td>00</td>\n",
       "      <td>01</td>\n",
       "      <td>12</td>\n",
       "    </tr>\n",
       "  </tbody>\n",
       "</table>\n",
       "</div>"
      ],
      "text/plain": [
       "   trip_id  trip_duration_seconds  from_station_id     trip_start_time  \\\n",
       "0  2383648                    393             7018 2018-01-01 00:47:00   \n",
       "1  2383649                    625             7184 2018-01-01 00:52:00   \n",
       "2  2383650                    233             7235 2018-01-01 00:55:00   \n",
       "3  2383651                   1138             7202 2018-01-01 00:57:00   \n",
       "4  2383652                    703             7004 2018-01-01 01:00:00   \n",
       "\n",
       "                         from_station_name      trip_stop_time  to_station_id  \\\n",
       "0                   Bremner Blvd / Rees St 2018-01-01 00:54:00           7176   \n",
       "1               Ossington Ave / College St 2018-01-01 01:03:00           7191   \n",
       "2  Bay St / College St (West Side) - SMART 2018-01-01 00:59:00           7021   \n",
       "3         Queen St W / York St (City Hall) 2018-01-01 01:16:00           7020   \n",
       "4                  University Ave / Elm St 2018-01-01 01:12:00           7060   \n",
       "\n",
       "                to_station_name      user_type start_time_hour  \\\n",
       "0  Bathurst St / Fort York Blvd  Annual Member              00   \n",
       "1    Central Tech  (Harbord St)  Annual Member              00   \n",
       "2            Bay St / Albert St  Annual Member              00   \n",
       "3       Phoebe St / Spadina Ave  Annual Member              00   \n",
       "4   Princess St / Adelaide St E  Annual Member              01   \n",
       "\n",
       "  start_time_minute stop_time_hour stop_time_minute  \n",
       "0                47             00               54  \n",
       "1                52             01               03  \n",
       "2                55             00               59  \n",
       "3                57             01               16  \n",
       "4                00             01               12  "
      ]
     },
     "execution_count": 27,
     "metadata": {},
     "output_type": "execute_result"
    }
   ],
   "source": [
    "df_bikeshare[\"start_time_hour\"] = df_bikeshare.trip_start_time.dt.strftime(\"%H\")\n",
    "df_bikeshare[\"start_time_minute\"] = df_bikeshare.trip_start_time.dt.strftime(\"%M\")\n",
    "df_bikeshare[\"stop_time_hour\"] = df_bikeshare.trip_stop_time.dt.strftime(\"%H\")\n",
    "df_bikeshare[\"stop_time_minute\"] = df_bikeshare.trip_stop_time.dt.strftime(\"%M\")\n",
    "df_bikeshare.head()"
   ]
  },
  {
   "cell_type": "markdown",
   "metadata": {},
   "source": [
    "#### Mengurutkan Ulang Atribut pada DataFrame"
   ]
  },
  {
   "cell_type": "code",
   "execution_count": 28,
   "metadata": {},
   "outputs": [
    {
     "data": {
      "text/html": [
       "<div>\n",
       "<style scoped>\n",
       "    .dataframe tbody tr th:only-of-type {\n",
       "        vertical-align: middle;\n",
       "    }\n",
       "\n",
       "    .dataframe tbody tr th {\n",
       "        vertical-align: top;\n",
       "    }\n",
       "\n",
       "    .dataframe thead th {\n",
       "        text-align: right;\n",
       "    }\n",
       "</style>\n",
       "<table border=\"1\" class=\"dataframe\">\n",
       "  <thead>\n",
       "    <tr style=\"text-align: right;\">\n",
       "      <th></th>\n",
       "      <th>trip_id</th>\n",
       "      <th>trip_duration_seconds</th>\n",
       "      <th>from_station_id</th>\n",
       "      <th>trip_start_time</th>\n",
       "      <th>start_time_hour</th>\n",
       "      <th>start_time_minute</th>\n",
       "      <th>from_station_name</th>\n",
       "      <th>to_station_id</th>\n",
       "      <th>trip_stop_time</th>\n",
       "      <th>stop_time_hour</th>\n",
       "      <th>stop_time_minute</th>\n",
       "      <th>to_station_name</th>\n",
       "      <th>user_type</th>\n",
       "    </tr>\n",
       "  </thead>\n",
       "  <tbody>\n",
       "    <tr>\n",
       "      <th>0</th>\n",
       "      <td>2383648</td>\n",
       "      <td>393</td>\n",
       "      <td>7018</td>\n",
       "      <td>2018-01-01 00:47:00</td>\n",
       "      <td>00</td>\n",
       "      <td>47</td>\n",
       "      <td>Bremner Blvd / Rees St</td>\n",
       "      <td>7176</td>\n",
       "      <td>2018-01-01 00:54:00</td>\n",
       "      <td>00</td>\n",
       "      <td>54</td>\n",
       "      <td>Bathurst St / Fort York Blvd</td>\n",
       "      <td>Annual Member</td>\n",
       "    </tr>\n",
       "    <tr>\n",
       "      <th>1</th>\n",
       "      <td>2383649</td>\n",
       "      <td>625</td>\n",
       "      <td>7184</td>\n",
       "      <td>2018-01-01 00:52:00</td>\n",
       "      <td>00</td>\n",
       "      <td>52</td>\n",
       "      <td>Ossington Ave / College St</td>\n",
       "      <td>7191</td>\n",
       "      <td>2018-01-01 01:03:00</td>\n",
       "      <td>01</td>\n",
       "      <td>03</td>\n",
       "      <td>Central Tech  (Harbord St)</td>\n",
       "      <td>Annual Member</td>\n",
       "    </tr>\n",
       "    <tr>\n",
       "      <th>2</th>\n",
       "      <td>2383650</td>\n",
       "      <td>233</td>\n",
       "      <td>7235</td>\n",
       "      <td>2018-01-01 00:55:00</td>\n",
       "      <td>00</td>\n",
       "      <td>55</td>\n",
       "      <td>Bay St / College St (West Side) - SMART</td>\n",
       "      <td>7021</td>\n",
       "      <td>2018-01-01 00:59:00</td>\n",
       "      <td>00</td>\n",
       "      <td>59</td>\n",
       "      <td>Bay St / Albert St</td>\n",
       "      <td>Annual Member</td>\n",
       "    </tr>\n",
       "    <tr>\n",
       "      <th>3</th>\n",
       "      <td>2383651</td>\n",
       "      <td>1138</td>\n",
       "      <td>7202</td>\n",
       "      <td>2018-01-01 00:57:00</td>\n",
       "      <td>00</td>\n",
       "      <td>57</td>\n",
       "      <td>Queen St W / York St (City Hall)</td>\n",
       "      <td>7020</td>\n",
       "      <td>2018-01-01 01:16:00</td>\n",
       "      <td>01</td>\n",
       "      <td>16</td>\n",
       "      <td>Phoebe St / Spadina Ave</td>\n",
       "      <td>Annual Member</td>\n",
       "    </tr>\n",
       "    <tr>\n",
       "      <th>4</th>\n",
       "      <td>2383652</td>\n",
       "      <td>703</td>\n",
       "      <td>7004</td>\n",
       "      <td>2018-01-01 01:00:00</td>\n",
       "      <td>01</td>\n",
       "      <td>00</td>\n",
       "      <td>University Ave / Elm St</td>\n",
       "      <td>7060</td>\n",
       "      <td>2018-01-01 01:12:00</td>\n",
       "      <td>01</td>\n",
       "      <td>12</td>\n",
       "      <td>Princess St / Adelaide St E</td>\n",
       "      <td>Annual Member</td>\n",
       "    </tr>\n",
       "  </tbody>\n",
       "</table>\n",
       "</div>"
      ],
      "text/plain": [
       "   trip_id  trip_duration_seconds  from_station_id     trip_start_time  \\\n",
       "0  2383648                    393             7018 2018-01-01 00:47:00   \n",
       "1  2383649                    625             7184 2018-01-01 00:52:00   \n",
       "2  2383650                    233             7235 2018-01-01 00:55:00   \n",
       "3  2383651                   1138             7202 2018-01-01 00:57:00   \n",
       "4  2383652                    703             7004 2018-01-01 01:00:00   \n",
       "\n",
       "  start_time_hour start_time_minute                        from_station_name  \\\n",
       "0              00                47                   Bremner Blvd / Rees St   \n",
       "1              00                52               Ossington Ave / College St   \n",
       "2              00                55  Bay St / College St (West Side) - SMART   \n",
       "3              00                57         Queen St W / York St (City Hall)   \n",
       "4              01                00                  University Ave / Elm St   \n",
       "\n",
       "   to_station_id      trip_stop_time stop_time_hour stop_time_minute  \\\n",
       "0           7176 2018-01-01 00:54:00             00               54   \n",
       "1           7191 2018-01-01 01:03:00             01               03   \n",
       "2           7021 2018-01-01 00:59:00             00               59   \n",
       "3           7020 2018-01-01 01:16:00             01               16   \n",
       "4           7060 2018-01-01 01:12:00             01               12   \n",
       "\n",
       "                to_station_name      user_type  \n",
       "0  Bathurst St / Fort York Blvd  Annual Member  \n",
       "1    Central Tech  (Harbord St)  Annual Member  \n",
       "2            Bay St / Albert St  Annual Member  \n",
       "3       Phoebe St / Spadina Ave  Annual Member  \n",
       "4   Princess St / Adelaide St E  Annual Member  "
      ]
     },
     "execution_count": 28,
     "metadata": {},
     "output_type": "execute_result"
    }
   ],
   "source": [
    "df_bikeshare = df_bikeshare[[\"trip_id\",\"trip_duration_seconds\",\"from_station_id\",\"trip_start_time\",\"start_time_hour\",\"start_time_minute\",\"from_station_name\",\"to_station_id\",\"trip_stop_time\",\"stop_time_hour\",\"stop_time_minute\",\"to_station_name\",\"user_type\"]]\n",
    "df_bikeshare.head()"
   ]
  },
  {
   "cell_type": "code",
   "execution_count": 29,
   "metadata": {},
   "outputs": [
    {
     "data": {
      "text/plain": [
       "trip_id                           int64\n",
       "trip_duration_seconds             int64\n",
       "from_station_id                   int64\n",
       "trip_start_time          datetime64[ns]\n",
       "start_time_hour                  object\n",
       "start_time_minute                object\n",
       "from_station_name                object\n",
       "to_station_id                     int64\n",
       "trip_stop_time           datetime64[ns]\n",
       "stop_time_hour                   object\n",
       "stop_time_minute                 object\n",
       "to_station_name                  object\n",
       "user_type                        object\n",
       "dtype: object"
      ]
     },
     "execution_count": 29,
     "metadata": {},
     "output_type": "execute_result"
    }
   ],
   "source": [
    "df_bikeshare.dtypes"
   ]
  },
  {
   "cell_type": "markdown",
   "metadata": {},
   "source": [
    "#### Mengubah Tipe Data start_time_hour, start_time_minute, stop_time_hour dan stop_time_minute Menjadi Integer"
   ]
  },
  {
   "cell_type": "code",
   "execution_count": 30,
   "metadata": {},
   "outputs": [],
   "source": [
    "df_bikeshare[\"start_time_hour\"] = df_bikeshare[\"start_time_hour\"].astype('int')\n",
    "df_bikeshare[\"start_time_minute\"] = df_bikeshare[\"start_time_minute\"].astype('int')\n",
    "df_bikeshare[\"stop_time_hour\"] = df_bikeshare[\"stop_time_hour\"].astype('int')\n",
    "df_bikeshare[\"stop_time_minute\"] = df_bikeshare[\"stop_time_minute\"].astype('int')"
   ]
  },
  {
   "cell_type": "code",
   "execution_count": 31,
   "metadata": {},
   "outputs": [
    {
     "data": {
      "text/plain": [
       "trip_id                           int64\n",
       "trip_duration_seconds             int64\n",
       "from_station_id                   int64\n",
       "trip_start_time          datetime64[ns]\n",
       "start_time_hour                   int32\n",
       "start_time_minute                 int32\n",
       "from_station_name                object\n",
       "to_station_id                     int64\n",
       "trip_stop_time           datetime64[ns]\n",
       "stop_time_hour                    int32\n",
       "stop_time_minute                  int32\n",
       "to_station_name                  object\n",
       "user_type                        object\n",
       "dtype: object"
      ]
     },
     "execution_count": 31,
     "metadata": {},
     "output_type": "execute_result"
    }
   ],
   "source": [
    "df_bikeshare.dtypes"
   ]
  },
  {
   "cell_type": "markdown",
   "metadata": {},
   "source": [
    "#### Mengubah Tipe Data user_type Menjadi Category (0 atau 1) dan Mengubah Lagi ke Tipe Data Integer"
   ]
  },
  {
   "cell_type": "code",
   "execution_count": 32,
   "metadata": {},
   "outputs": [
    {
     "data": {
      "text/plain": [
       "trip_id                           int64\n",
       "trip_duration_seconds             int64\n",
       "from_station_id                   int64\n",
       "trip_start_time          datetime64[ns]\n",
       "start_time_hour                   int32\n",
       "start_time_minute                 int32\n",
       "from_station_name                object\n",
       "to_station_id                     int64\n",
       "trip_stop_time           datetime64[ns]\n",
       "stop_time_hour                    int32\n",
       "stop_time_minute                  int32\n",
       "to_station_name                  object\n",
       "user_type                          int8\n",
       "dtype: object"
      ]
     },
     "execution_count": 32,
     "metadata": {},
     "output_type": "execute_result"
    }
   ],
   "source": [
    "df_bikeshare['user_type'] = df_bikeshare['user_type'].astype('category')\n",
    "df_bikeshare['user_type'] = df_bikeshare['user_type'].cat.codes\n",
    "df_bikeshare.dtypes"
   ]
  },
  {
   "cell_type": "markdown",
   "metadata": {},
   "source": [
    "#### Cek Apakah Ada Features Yang Tidak Ada Nilainya"
   ]
  },
  {
   "cell_type": "code",
   "execution_count": 33,
   "metadata": {},
   "outputs": [
    {
     "data": {
      "text/plain": [
       "False"
      ]
     },
     "execution_count": 33,
     "metadata": {},
     "output_type": "execute_result"
    }
   ],
   "source": [
    "df_bikeshare.isnull().values.any()"
   ]
  },
  {
   "cell_type": "code",
   "execution_count": 34,
   "metadata": {},
   "outputs": [
    {
     "data": {
      "text/plain": [
       "(178559, 13)"
      ]
     },
     "execution_count": 34,
     "metadata": {},
     "output_type": "execute_result"
    }
   ],
   "source": [
    "df_bikeshare.shape"
   ]
  },
  {
   "cell_type": "code",
   "execution_count": 35,
   "metadata": {},
   "outputs": [
    {
     "data": {
      "text/html": [
       "<div>\n",
       "<style scoped>\n",
       "    .dataframe tbody tr th:only-of-type {\n",
       "        vertical-align: middle;\n",
       "    }\n",
       "\n",
       "    .dataframe tbody tr th {\n",
       "        vertical-align: top;\n",
       "    }\n",
       "\n",
       "    .dataframe thead th {\n",
       "        text-align: right;\n",
       "    }\n",
       "</style>\n",
       "<table border=\"1\" class=\"dataframe\">\n",
       "  <thead>\n",
       "    <tr style=\"text-align: right;\">\n",
       "      <th></th>\n",
       "      <th>trip_id</th>\n",
       "      <th>trip_duration_seconds</th>\n",
       "      <th>from_station_id</th>\n",
       "      <th>trip_start_time</th>\n",
       "      <th>start_time_hour</th>\n",
       "      <th>start_time_minute</th>\n",
       "      <th>from_station_name</th>\n",
       "      <th>to_station_id</th>\n",
       "      <th>trip_stop_time</th>\n",
       "      <th>stop_time_hour</th>\n",
       "      <th>stop_time_minute</th>\n",
       "      <th>to_station_name</th>\n",
       "      <th>user_type</th>\n",
       "    </tr>\n",
       "  </thead>\n",
       "  <tbody>\n",
       "    <tr>\n",
       "      <th>0</th>\n",
       "      <td>2383648</td>\n",
       "      <td>393</td>\n",
       "      <td>7018</td>\n",
       "      <td>2018-01-01 00:47:00</td>\n",
       "      <td>0</td>\n",
       "      <td>47</td>\n",
       "      <td>Bremner Blvd / Rees St</td>\n",
       "      <td>7176</td>\n",
       "      <td>2018-01-01 00:54:00</td>\n",
       "      <td>0</td>\n",
       "      <td>54</td>\n",
       "      <td>Bathurst St / Fort York Blvd</td>\n",
       "      <td>0</td>\n",
       "    </tr>\n",
       "    <tr>\n",
       "      <th>1</th>\n",
       "      <td>2383649</td>\n",
       "      <td>625</td>\n",
       "      <td>7184</td>\n",
       "      <td>2018-01-01 00:52:00</td>\n",
       "      <td>0</td>\n",
       "      <td>52</td>\n",
       "      <td>Ossington Ave / College St</td>\n",
       "      <td>7191</td>\n",
       "      <td>2018-01-01 01:03:00</td>\n",
       "      <td>1</td>\n",
       "      <td>3</td>\n",
       "      <td>Central Tech  (Harbord St)</td>\n",
       "      <td>0</td>\n",
       "    </tr>\n",
       "    <tr>\n",
       "      <th>2</th>\n",
       "      <td>2383650</td>\n",
       "      <td>233</td>\n",
       "      <td>7235</td>\n",
       "      <td>2018-01-01 00:55:00</td>\n",
       "      <td>0</td>\n",
       "      <td>55</td>\n",
       "      <td>Bay St / College St (West Side) - SMART</td>\n",
       "      <td>7021</td>\n",
       "      <td>2018-01-01 00:59:00</td>\n",
       "      <td>0</td>\n",
       "      <td>59</td>\n",
       "      <td>Bay St / Albert St</td>\n",
       "      <td>0</td>\n",
       "    </tr>\n",
       "    <tr>\n",
       "      <th>3</th>\n",
       "      <td>2383651</td>\n",
       "      <td>1138</td>\n",
       "      <td>7202</td>\n",
       "      <td>2018-01-01 00:57:00</td>\n",
       "      <td>0</td>\n",
       "      <td>57</td>\n",
       "      <td>Queen St W / York St (City Hall)</td>\n",
       "      <td>7020</td>\n",
       "      <td>2018-01-01 01:16:00</td>\n",
       "      <td>1</td>\n",
       "      <td>16</td>\n",
       "      <td>Phoebe St / Spadina Ave</td>\n",
       "      <td>0</td>\n",
       "    </tr>\n",
       "    <tr>\n",
       "      <th>4</th>\n",
       "      <td>2383652</td>\n",
       "      <td>703</td>\n",
       "      <td>7004</td>\n",
       "      <td>2018-01-01 01:00:00</td>\n",
       "      <td>1</td>\n",
       "      <td>0</td>\n",
       "      <td>University Ave / Elm St</td>\n",
       "      <td>7060</td>\n",
       "      <td>2018-01-01 01:12:00</td>\n",
       "      <td>1</td>\n",
       "      <td>12</td>\n",
       "      <td>Princess St / Adelaide St E</td>\n",
       "      <td>0</td>\n",
       "    </tr>\n",
       "  </tbody>\n",
       "</table>\n",
       "</div>"
      ],
      "text/plain": [
       "   trip_id  trip_duration_seconds  from_station_id     trip_start_time  \\\n",
       "0  2383648                    393             7018 2018-01-01 00:47:00   \n",
       "1  2383649                    625             7184 2018-01-01 00:52:00   \n",
       "2  2383650                    233             7235 2018-01-01 00:55:00   \n",
       "3  2383651                   1138             7202 2018-01-01 00:57:00   \n",
       "4  2383652                    703             7004 2018-01-01 01:00:00   \n",
       "\n",
       "   start_time_hour  start_time_minute  \\\n",
       "0                0                 47   \n",
       "1                0                 52   \n",
       "2                0                 55   \n",
       "3                0                 57   \n",
       "4                1                  0   \n",
       "\n",
       "                         from_station_name  to_station_id      trip_stop_time  \\\n",
       "0                   Bremner Blvd / Rees St           7176 2018-01-01 00:54:00   \n",
       "1               Ossington Ave / College St           7191 2018-01-01 01:03:00   \n",
       "2  Bay St / College St (West Side) - SMART           7021 2018-01-01 00:59:00   \n",
       "3         Queen St W / York St (City Hall)           7020 2018-01-01 01:16:00   \n",
       "4                  University Ave / Elm St           7060 2018-01-01 01:12:00   \n",
       "\n",
       "   stop_time_hour  stop_time_minute               to_station_name  user_type  \n",
       "0               0                54  Bathurst St / Fort York Blvd          0  \n",
       "1               1                 3    Central Tech  (Harbord St)          0  \n",
       "2               0                59            Bay St / Albert St          0  \n",
       "3               1                16       Phoebe St / Spadina Ave          0  \n",
       "4               1                12   Princess St / Adelaide St E          0  "
      ]
     },
     "execution_count": 35,
     "metadata": {},
     "output_type": "execute_result"
    }
   ],
   "source": [
    "df_bikeshare.head()"
   ]
  },
  {
   "cell_type": "code",
   "execution_count": 36,
   "metadata": {},
   "outputs": [
    {
     "data": {
      "text/plain": [
       "0    168309\n",
       "1     10250\n",
       "Name: user_type, dtype: int64"
      ]
     },
     "execution_count": 36,
     "metadata": {},
     "output_type": "execute_result"
    }
   ],
   "source": [
    "df_bikeshare['user_type'].value_counts()"
   ]
  },
  {
   "cell_type": "markdown",
   "metadata": {},
   "source": [
    "#### Membuat Variabel X (Independent Variabel/Predictor) yang nilainya berisi data dari\n",
    "'trip_duration_seconds','from_station_id','start_time_hour','start_time_minute','to_station_id','stop_time_hour','stop_time_minute'\n",
    "<br> \n",
    "<br> \n",
    "Mengambil Sampel Dari Data X untuk Review Yang dimulai dari baris/index ke 15 sampe ke 20"
   ]
  },
  {
   "cell_type": "code",
   "execution_count": 64,
   "metadata": {},
   "outputs": [
    {
     "data": {
      "text/plain": [
       "array([[ 797, 7160,    2,   25, 7136,    2,   38],\n",
       "       [ 352, 7140,    2,   29, 7003,    2,   35],\n",
       "       [ 382, 7149,    2,   30, 7153,    2,   36],\n",
       "       [ 433, 7111,    2,   45, 7176,    2,   52],\n",
       "       [ 589, 7067,    2,   53, 7259,    3,    3]], dtype=int64)"
      ]
     },
     "execution_count": 64,
     "metadata": {},
     "output_type": "execute_result"
    }
   ],
   "source": [
    "X = df_bikeshare[['trip_duration_seconds','from_station_id','start_time_hour','start_time_minute','to_station_id','stop_time_hour','stop_time_minute']].values\n",
    "X[15:20]"
   ]
  },
  {
   "cell_type": "markdown",
   "metadata": {},
   "source": [
    "#### Membuat Variabel y (Dependent Variabel/Target) yang nilainya berisi data dari\n",
    "'user_type'\n",
    "<br> \n",
    "<br> \n",
    "Mengambil Sampel Dari Data y untuk Review Yang dimulai dari baris/index ke 15 sampe ke 20"
   ]
  },
  {
   "cell_type": "code",
   "execution_count": 65,
   "metadata": {},
   "outputs": [
    {
     "data": {
      "text/plain": [
       "array([1, 0, 0, 0, 0], dtype=int8)"
      ]
     },
     "execution_count": 65,
     "metadata": {},
     "output_type": "execute_result"
    }
   ],
   "source": [
    "y = df_bikeshare['user_type'].values\n",
    "y[15:20]"
   ]
  },
  {
   "cell_type": "markdown",
   "metadata": {},
   "source": [
    "#### Melakukan Normalisasi Data Dengan Z-Scrore Pada Variabel X dan Mengubah Tipe Data X Menjadi Float\n",
    "<br> \n",
    "Mengambil Sampel Dari Data X untuk Review Yang dimulai dari baris/index ke 0 sampe ke 5"
   ]
  },
  {
   "cell_type": "code",
   "execution_count": 66,
   "metadata": {},
   "outputs": [
    {
     "data": {
      "text/plain": [
       "array([[-0.33, -1.05, -2.86,  1.  ,  0.76, -2.87,  1.39],\n",
       "       [-0.08,  0.82, -2.86,  1.29,  0.93, -2.67, -1.52],\n",
       "       [-0.51,  1.39, -2.86,  1.46, -1.  , -2.87,  1.67],\n",
       "       [ 0.49,  1.02, -2.86,  1.58, -1.01, -2.67, -0.78],\n",
       "       [ 0.01, -1.21, -2.65, -1.7 , -0.56, -2.67, -1.  ]])"
      ]
     },
     "execution_count": 66,
     "metadata": {},
     "output_type": "execute_result"
    }
   ],
   "source": [
    "X = preprocessing.StandardScaler().fit(X).transform(X.astype(float))\n",
    "X[0:5]"
   ]
  },
  {
   "cell_type": "markdown",
   "metadata": {},
   "source": [
    "#### Mensplit Data Menjadi Data Trainning (sebanyak 90%) dan Data Test (sebanyak 10%) "
   ]
  },
  {
   "cell_type": "code",
   "execution_count": 67,
   "metadata": {},
   "outputs": [
    {
     "name": "stdout",
     "output_type": "stream",
     "text": [
      "Train set: (160703, 7) (160703,)\n",
      "Test set: (17856, 7) (17856,)\n"
     ]
    }
   ],
   "source": [
    "from sklearn.model_selection import train_test_split\n",
    "X_train, X_test, y_train, y_test = train_test_split( X, y, test_size=0.1, random_state=2)\n",
    "print ('Train set:', X_train.shape,  y_train.shape)\n",
    "print ('Test set:', X_test.shape,  y_test.shape)"
   ]
  },
  {
   "cell_type": "markdown",
   "metadata": {},
   "source": [
    "# Classification "
   ]
  },
  {
   "cell_type": "markdown",
   "metadata": {},
   "source": [
    "## 1. K nearest neighbor (K-NN)"
   ]
  },
  {
   "cell_type": "code",
   "execution_count": 68,
   "metadata": {},
   "outputs": [],
   "source": [
    "from sklearn.neighbors import KNeighborsClassifier"
   ]
  },
  {
   "cell_type": "markdown",
   "metadata": {},
   "source": [
    "#### Membuat Model KNN Menggunakan Data Trainning Dengan Bantuan Libary sklearn dimana k Pada KNN adalah 16 Neighbors"
   ]
  },
  {
   "cell_type": "code",
   "execution_count": 69,
   "metadata": {},
   "outputs": [
    {
     "data": {
      "text/plain": [
       "KNeighborsClassifier(n_neighbors=4)"
      ]
     },
     "execution_count": 69,
     "metadata": {},
     "output_type": "execute_result"
    }
   ],
   "source": [
    "k = 4\n",
    "#Train Model and Predict  \n",
    "neigh = KNeighborsClassifier(n_neighbors = k).fit(X_train,y_train)\n",
    "neigh"
   ]
  },
  {
   "cell_type": "code",
   "execution_count": 70,
   "metadata": {},
   "outputs": [
    {
     "data": {
      "text/html": [
       "<div>\n",
       "<style scoped>\n",
       "    .dataframe tbody tr th:only-of-type {\n",
       "        vertical-align: middle;\n",
       "    }\n",
       "\n",
       "    .dataframe tbody tr th {\n",
       "        vertical-align: top;\n",
       "    }\n",
       "\n",
       "    .dataframe thead th {\n",
       "        text-align: right;\n",
       "    }\n",
       "</style>\n",
       "<table border=\"1\" class=\"dataframe\">\n",
       "  <thead>\n",
       "    <tr style=\"text-align: right;\">\n",
       "      <th></th>\n",
       "      <th>trip_duration_seconds</th>\n",
       "      <th>from_station_id</th>\n",
       "      <th>start_time_hour</th>\n",
       "      <th>start_time_minute</th>\n",
       "      <th>to_station_id</th>\n",
       "      <th>stop_time_hour</th>\n",
       "      <th>stop_time_minute</th>\n",
       "    </tr>\n",
       "  </thead>\n",
       "  <tbody>\n",
       "    <tr>\n",
       "      <th>0</th>\n",
       "      <td>-0.301206</td>\n",
       "      <td>1.933017</td>\n",
       "      <td>-0.988708</td>\n",
       "      <td>-0.494370</td>\n",
       "      <td>-0.091613</td>\n",
       "      <td>-1.012941</td>\n",
       "      <td>-0.092151</td>\n",
       "    </tr>\n",
       "    <tr>\n",
       "      <th>1</th>\n",
       "      <td>0.464318</td>\n",
       "      <td>1.629223</td>\n",
       "      <td>-0.365439</td>\n",
       "      <td>0.770756</td>\n",
       "      <td>0.282541</td>\n",
       "      <td>-0.185968</td>\n",
       "      <td>-1.629062</td>\n",
       "    </tr>\n",
       "    <tr>\n",
       "      <th>2</th>\n",
       "      <td>1.180276</td>\n",
       "      <td>-0.744867</td>\n",
       "      <td>-0.157682</td>\n",
       "      <td>1.460825</td>\n",
       "      <td>-0.102951</td>\n",
       "      <td>0.020775</td>\n",
       "      <td>-0.262919</td>\n",
       "    </tr>\n",
       "    <tr>\n",
       "      <th>3</th>\n",
       "      <td>-0.128275</td>\n",
       "      <td>-1.003654</td>\n",
       "      <td>0.465587</td>\n",
       "      <td>1.000779</td>\n",
       "      <td>-0.749217</td>\n",
       "      <td>0.434262</td>\n",
       "      <td>1.558605</td>\n",
       "    </tr>\n",
       "    <tr>\n",
       "      <th>4</th>\n",
       "      <td>0.114049</td>\n",
       "      <td>0.099004</td>\n",
       "      <td>-0.988708</td>\n",
       "      <td>0.885768</td>\n",
       "      <td>0.101133</td>\n",
       "      <td>-1.012941</td>\n",
       "      <td>1.615528</td>\n",
       "    </tr>\n",
       "    <tr>\n",
       "      <th>5</th>\n",
       "      <td>0.831109</td>\n",
       "      <td>-0.531087</td>\n",
       "      <td>0.881100</td>\n",
       "      <td>-0.436864</td>\n",
       "      <td>-0.193655</td>\n",
       "      <td>0.847748</td>\n",
       "      <td>0.932457</td>\n",
       "    </tr>\n",
       "    <tr>\n",
       "      <th>6</th>\n",
       "      <td>-0.018127</td>\n",
       "      <td>-0.857383</td>\n",
       "      <td>1.504369</td>\n",
       "      <td>-0.954416</td>\n",
       "      <td>-1.044004</td>\n",
       "      <td>1.467978</td>\n",
       "      <td>-0.262919</td>\n",
       "    </tr>\n",
       "    <tr>\n",
       "      <th>7</th>\n",
       "      <td>0.047961</td>\n",
       "      <td>-0.924893</td>\n",
       "      <td>0.050074</td>\n",
       "      <td>-0.494370</td>\n",
       "      <td>1.813169</td>\n",
       "      <td>0.020775</td>\n",
       "      <td>0.192462</td>\n",
       "    </tr>\n",
       "    <tr>\n",
       "      <th>8</th>\n",
       "      <td>0.118455</td>\n",
       "      <td>0.909120</td>\n",
       "      <td>-1.196464</td>\n",
       "      <td>-1.011922</td>\n",
       "      <td>-0.907949</td>\n",
       "      <td>-1.219685</td>\n",
       "      <td>-0.205996</td>\n",
       "    </tr>\n",
       "    <tr>\n",
       "      <th>9</th>\n",
       "      <td>0.303503</td>\n",
       "      <td>0.582823</td>\n",
       "      <td>-0.157682</td>\n",
       "      <td>-0.551876</td>\n",
       "      <td>-0.783231</td>\n",
       "      <td>-0.185968</td>\n",
       "      <td>0.363230</td>\n",
       "    </tr>\n",
       "    <tr>\n",
       "      <th>10</th>\n",
       "      <td>-0.122767</td>\n",
       "      <td>-1.138674</td>\n",
       "      <td>1.504369</td>\n",
       "      <td>0.138193</td>\n",
       "      <td>-1.134708</td>\n",
       "      <td>1.467978</td>\n",
       "      <td>0.704766</td>\n",
       "    </tr>\n",
       "    <tr>\n",
       "      <th>11</th>\n",
       "      <td>-0.008214</td>\n",
       "      <td>1.820501</td>\n",
       "      <td>-0.573195</td>\n",
       "      <td>1.345814</td>\n",
       "      <td>-1.157384</td>\n",
       "      <td>-0.392711</td>\n",
       "      <td>-1.401371</td>\n",
       "    </tr>\n",
       "    <tr>\n",
       "      <th>12</th>\n",
       "      <td>-0.463123</td>\n",
       "      <td>1.460449</td>\n",
       "      <td>-0.573195</td>\n",
       "      <td>1.288308</td>\n",
       "      <td>0.622680</td>\n",
       "      <td>-0.599455</td>\n",
       "      <td>1.501683</td>\n",
       "    </tr>\n",
       "    <tr>\n",
       "      <th>13</th>\n",
       "      <td>-0.304511</td>\n",
       "      <td>-0.778622</td>\n",
       "      <td>0.257831</td>\n",
       "      <td>1.345814</td>\n",
       "      <td>-0.851259</td>\n",
       "      <td>0.434262</td>\n",
       "      <td>-1.685984</td>\n",
       "    </tr>\n",
       "    <tr>\n",
       "      <th>14</th>\n",
       "      <td>-0.411353</td>\n",
       "      <td>-1.003654</td>\n",
       "      <td>-0.573195</td>\n",
       "      <td>0.770756</td>\n",
       "      <td>-0.726541</td>\n",
       "      <td>-0.599455</td>\n",
       "      <td>1.103224</td>\n",
       "    </tr>\n",
       "    <tr>\n",
       "      <th>15</th>\n",
       "      <td>-0.321033</td>\n",
       "      <td>-0.936145</td>\n",
       "      <td>0.465587</td>\n",
       "      <td>-1.644485</td>\n",
       "      <td>-0.647175</td>\n",
       "      <td>0.434262</td>\n",
       "      <td>-1.287526</td>\n",
       "    </tr>\n",
       "    <tr>\n",
       "      <th>16</th>\n",
       "      <td>0.970996</td>\n",
       "      <td>-1.194932</td>\n",
       "      <td>0.881100</td>\n",
       "      <td>0.080687</td>\n",
       "      <td>1.892535</td>\n",
       "      <td>0.847748</td>\n",
       "      <td>1.558605</td>\n",
       "    </tr>\n",
       "    <tr>\n",
       "      <th>17</th>\n",
       "      <td>-0.205378</td>\n",
       "      <td>-0.733616</td>\n",
       "      <td>-0.573195</td>\n",
       "      <td>-1.126933</td>\n",
       "      <td>-0.839921</td>\n",
       "      <td>-0.599455</td>\n",
       "      <td>-0.661377</td>\n",
       "    </tr>\n",
       "    <tr>\n",
       "      <th>18</th>\n",
       "      <td>0.002801</td>\n",
       "      <td>0.312784</td>\n",
       "      <td>0.673344</td>\n",
       "      <td>-0.839405</td>\n",
       "      <td>1.609086</td>\n",
       "      <td>0.641005</td>\n",
       "      <td>-0.205996</td>\n",
       "    </tr>\n",
       "    <tr>\n",
       "      <th>19</th>\n",
       "      <td>-0.144797</td>\n",
       "      <td>-1.071164</td>\n",
       "      <td>0.050074</td>\n",
       "      <td>-1.241945</td>\n",
       "      <td>-1.032666</td>\n",
       "      <td>0.020775</td>\n",
       "      <td>-0.718300</td>\n",
       "    </tr>\n",
       "  </tbody>\n",
       "</table>\n",
       "</div>"
      ],
      "text/plain": [
       "    trip_duration_seconds  from_station_id  start_time_hour  \\\n",
       "0               -0.301206         1.933017        -0.988708   \n",
       "1                0.464318         1.629223        -0.365439   \n",
       "2                1.180276        -0.744867        -0.157682   \n",
       "3               -0.128275        -1.003654         0.465587   \n",
       "4                0.114049         0.099004        -0.988708   \n",
       "5                0.831109        -0.531087         0.881100   \n",
       "6               -0.018127        -0.857383         1.504369   \n",
       "7                0.047961        -0.924893         0.050074   \n",
       "8                0.118455         0.909120        -1.196464   \n",
       "9                0.303503         0.582823        -0.157682   \n",
       "10              -0.122767        -1.138674         1.504369   \n",
       "11              -0.008214         1.820501        -0.573195   \n",
       "12              -0.463123         1.460449        -0.573195   \n",
       "13              -0.304511        -0.778622         0.257831   \n",
       "14              -0.411353        -1.003654        -0.573195   \n",
       "15              -0.321033        -0.936145         0.465587   \n",
       "16               0.970996        -1.194932         0.881100   \n",
       "17              -0.205378        -0.733616        -0.573195   \n",
       "18               0.002801         0.312784         0.673344   \n",
       "19              -0.144797        -1.071164         0.050074   \n",
       "\n",
       "    start_time_minute  to_station_id  stop_time_hour  stop_time_minute  \n",
       "0           -0.494370      -0.091613       -1.012941         -0.092151  \n",
       "1            0.770756       0.282541       -0.185968         -1.629062  \n",
       "2            1.460825      -0.102951        0.020775         -0.262919  \n",
       "3            1.000779      -0.749217        0.434262          1.558605  \n",
       "4            0.885768       0.101133       -1.012941          1.615528  \n",
       "5           -0.436864      -0.193655        0.847748          0.932457  \n",
       "6           -0.954416      -1.044004        1.467978         -0.262919  \n",
       "7           -0.494370       1.813169        0.020775          0.192462  \n",
       "8           -1.011922      -0.907949       -1.219685         -0.205996  \n",
       "9           -0.551876      -0.783231       -0.185968          0.363230  \n",
       "10           0.138193      -1.134708        1.467978          0.704766  \n",
       "11           1.345814      -1.157384       -0.392711         -1.401371  \n",
       "12           1.288308       0.622680       -0.599455          1.501683  \n",
       "13           1.345814      -0.851259        0.434262         -1.685984  \n",
       "14           0.770756      -0.726541       -0.599455          1.103224  \n",
       "15          -1.644485      -0.647175        0.434262         -1.287526  \n",
       "16           0.080687       1.892535        0.847748          1.558605  \n",
       "17          -1.126933      -0.839921       -0.599455         -0.661377  \n",
       "18          -0.839405       1.609086        0.641005         -0.205996  \n",
       "19          -1.241945      -1.032666        0.020775         -0.718300  "
      ]
     },
     "execution_count": 70,
     "metadata": {},
     "output_type": "execute_result"
    }
   ],
   "source": [
    "data_test = pd.DataFrame(X_test,columns=['trip_duration_seconds','from_station_id','start_time_hour','start_time_minute','to_station_id','stop_time_hour','stop_time_minute'])\n",
    "data_test.head(20)"
   ]
  },
  {
   "cell_type": "markdown",
   "metadata": {},
   "source": [
    "### Predicting\n",
    "we can use the model to predict the test set:"
   ]
  },
  {
   "cell_type": "markdown",
   "metadata": {},
   "source": [
    "##### Memasukan Historical Data Yang Ingin Diprediksi (Dimensi Data Harus Sama Dengan Variabel X)"
   ]
  },
  {
   "cell_type": "code",
   "execution_count": 71,
   "metadata": {},
   "outputs": [
    {
     "data": {
      "text/plain": [
       "array([0, 0, 0, 0, 0, 0, 0, 0, 0, 0, 0, 0, 0, 0, 0, 0, 0, 0, 0, 0],\n",
       "      dtype=int8)"
      ]
     },
     "execution_count": 71,
     "metadata": {},
     "output_type": "execute_result"
    }
   ],
   "source": [
    "yhat = neigh.predict(X_test)\n",
    "yhat[0:20]"
   ]
  },
  {
   "cell_type": "code",
   "execution_count": 72,
   "metadata": {},
   "outputs": [
    {
     "data": {
      "text/html": [
       "<div>\n",
       "<style scoped>\n",
       "    .dataframe tbody tr th:only-of-type {\n",
       "        vertical-align: middle;\n",
       "    }\n",
       "\n",
       "    .dataframe tbody tr th {\n",
       "        vertical-align: top;\n",
       "    }\n",
       "\n",
       "    .dataframe thead th {\n",
       "        text-align: right;\n",
       "    }\n",
       "</style>\n",
       "<table border=\"1\" class=\"dataframe\">\n",
       "  <thead>\n",
       "    <tr style=\"text-align: right;\">\n",
       "      <th></th>\n",
       "      <th>trip_duration_seconds</th>\n",
       "      <th>from_station_id</th>\n",
       "      <th>start_time_hour</th>\n",
       "      <th>start_time_minute</th>\n",
       "      <th>to_station_id</th>\n",
       "      <th>stop_time_hour</th>\n",
       "      <th>stop_time_minute</th>\n",
       "      <th>user_type</th>\n",
       "    </tr>\n",
       "  </thead>\n",
       "  <tbody>\n",
       "    <tr>\n",
       "      <th>0</th>\n",
       "      <td>-0.301206</td>\n",
       "      <td>1.933017</td>\n",
       "      <td>-0.988708</td>\n",
       "      <td>-0.494370</td>\n",
       "      <td>-0.091613</td>\n",
       "      <td>-1.012941</td>\n",
       "      <td>-0.092151</td>\n",
       "      <td>0</td>\n",
       "    </tr>\n",
       "    <tr>\n",
       "      <th>1</th>\n",
       "      <td>0.464318</td>\n",
       "      <td>1.629223</td>\n",
       "      <td>-0.365439</td>\n",
       "      <td>0.770756</td>\n",
       "      <td>0.282541</td>\n",
       "      <td>-0.185968</td>\n",
       "      <td>-1.629062</td>\n",
       "      <td>0</td>\n",
       "    </tr>\n",
       "    <tr>\n",
       "      <th>2</th>\n",
       "      <td>1.180276</td>\n",
       "      <td>-0.744867</td>\n",
       "      <td>-0.157682</td>\n",
       "      <td>1.460825</td>\n",
       "      <td>-0.102951</td>\n",
       "      <td>0.020775</td>\n",
       "      <td>-0.262919</td>\n",
       "      <td>0</td>\n",
       "    </tr>\n",
       "    <tr>\n",
       "      <th>3</th>\n",
       "      <td>-0.128275</td>\n",
       "      <td>-1.003654</td>\n",
       "      <td>0.465587</td>\n",
       "      <td>1.000779</td>\n",
       "      <td>-0.749217</td>\n",
       "      <td>0.434262</td>\n",
       "      <td>1.558605</td>\n",
       "      <td>0</td>\n",
       "    </tr>\n",
       "    <tr>\n",
       "      <th>4</th>\n",
       "      <td>0.114049</td>\n",
       "      <td>0.099004</td>\n",
       "      <td>-0.988708</td>\n",
       "      <td>0.885768</td>\n",
       "      <td>0.101133</td>\n",
       "      <td>-1.012941</td>\n",
       "      <td>1.615528</td>\n",
       "      <td>0</td>\n",
       "    </tr>\n",
       "  </tbody>\n",
       "</table>\n",
       "</div>"
      ],
      "text/plain": [
       "   trip_duration_seconds  from_station_id  start_time_hour  start_time_minute  \\\n",
       "0              -0.301206         1.933017        -0.988708          -0.494370   \n",
       "1               0.464318         1.629223        -0.365439           0.770756   \n",
       "2               1.180276        -0.744867        -0.157682           1.460825   \n",
       "3              -0.128275        -1.003654         0.465587           1.000779   \n",
       "4               0.114049         0.099004        -0.988708           0.885768   \n",
       "\n",
       "   to_station_id  stop_time_hour  stop_time_minute  user_type  \n",
       "0      -0.091613       -1.012941         -0.092151          0  \n",
       "1       0.282541       -0.185968         -1.629062          0  \n",
       "2      -0.102951        0.020775         -0.262919          0  \n",
       "3      -0.749217        0.434262          1.558605          0  \n",
       "4       0.101133       -1.012941          1.615528          0  "
      ]
     },
     "execution_count": 72,
     "metadata": {},
     "output_type": "execute_result"
    }
   ],
   "source": [
    "data_test[\"user_type\"] = yhat\n",
    "data_test.head()"
   ]
  },
  {
   "cell_type": "markdown",
   "metadata": {},
   "source": [
    "### Model Evaluation\n",
    "we can use the Jaccard Score to evaluate the model:"
   ]
  },
  {
   "cell_type": "code",
   "execution_count": 45,
   "metadata": {},
   "outputs": [
    {
     "name": "stdout",
     "output_type": "stream",
     "text": [
      "Train set Accuracy:  0.9591357970915291\n",
      "Test set Accuracy:  0.9525089605734767\n"
     ]
    }
   ],
   "source": [
    "from sklearn import metrics\n",
    "print(\"Train set Accuracy: \", metrics.accuracy_score(y_train, neigh.predict(X_train)))\n",
    "print(\"Test set Accuracy: \", metrics.accuracy_score(y_test, yhat))"
   ]
  },
  {
   "cell_type": "markdown",
   "metadata": {},
   "source": [
    "##### Hasil Masing-masing Accuracy Dalam Array Saat K Bernilai 1 Sampai 18"
   ]
  },
  {
   "cell_type": "code",
   "execution_count": 46,
   "metadata": {},
   "outputs": [
    {
     "data": {
      "text/plain": [
       "array([0.94209229, 0.95172491, 0.94679659, 0.95250896, 0.9515569 ,\n",
       "       0.95222894, 0.9515569 , 0.95228495, 0.95234095, 0.95189292,\n",
       "       0.95178091, 0.95178091, 0.95178091, 0.95217294, 0.95234095,\n",
       "       0.95194892, 0.95211694])"
      ]
     },
     "execution_count": 46,
     "metadata": {},
     "output_type": "execute_result"
    }
   ],
   "source": [
    "Ks = 18\n",
    "mean_acc = np.zeros((Ks-1))\n",
    "std_acc = np.zeros((Ks-1))\n",
    "ConfustionMx = [];\n",
    "for n in range(1,Ks):\n",
    "    \n",
    "    #Train Model and Predict  \n",
    "    neigh = KNeighborsClassifier(n_neighbors = n).fit(X_train,y_train)\n",
    "    yhat=neigh.predict(X_test)\n",
    "    mean_acc[n-1] = metrics.accuracy_score(y_test, yhat)\n",
    "    std_acc[n-1]=np.std(yhat==y_test)/np.sqrt(yhat.shape[0])\n",
    "\n",
    "mean_acc"
   ]
  },
  {
   "cell_type": "markdown",
   "metadata": {},
   "source": [
    "##### Plotting Hasil Accuracy K dari 1 sampai 16"
   ]
  },
  {
   "cell_type": "code",
   "execution_count": 47,
   "metadata": {},
   "outputs": [
    {
     "data": {
      "image/png": "[encoded data removed]",
      "text/plain": [
       "<Figure size 720x360 with 1 Axes>"
      ]
     },
     "metadata": {
      "needs_background": "light"
     },
     "output_type": "display_data"
    }
   ],
   "source": [
    "plt.figure(figsize=(10,5))\n",
    "plt.plot(range(1,Ks),mean_acc,'g')\n",
    "plt.fill_between(range(1,Ks),mean_acc - 1 * std_acc,mean_acc + 1 * std_acc, alpha=0.10)\n",
    "plt.legend(('Accuracy ', '+/- 3xstd'))\n",
    "plt.ylabel('Accuracy ')\n",
    "plt.xlabel('Number of Nabors (K)')\n",
    "plt.tight_layout()\n",
    "plt.show()"
   ]
  },
  {
   "cell_type": "code",
   "execution_count": 48,
   "metadata": {},
   "outputs": [
    {
     "name": "stdout",
     "output_type": "stream",
     "text": [
      "The best accuracy was with 0.9525089605734767 with k= 4\n"
     ]
    }
   ],
   "source": [
    "print( \"The best accuracy was with\", mean_acc.max(), \"with k=\", mean_acc.argmax()+1) "
   ]
  },
  {
   "cell_type": "markdown",
   "metadata": {},
   "source": [
    "## 2. Support Vector Machine (SVM)"
   ]
  },
  {
   "cell_type": "code",
   "execution_count": 49,
   "metadata": {},
   "outputs": [],
   "source": [
    "import pandas as pd\n",
    "import pylab as pl\n",
    "import numpy as np\n",
    "import scipy.optimize as opt\n",
    "from sklearn import preprocessing\n",
    "from sklearn.model_selection import train_test_split\n",
    "%matplotlib inline \n",
    "import matplotlib.pyplot as plt"
   ]
  },
  {
   "cell_type": "code",
   "execution_count": 50,
   "metadata": {},
   "outputs": [
    {
     "data": {
      "text/html": [
       "<div>\n",
       "<style scoped>\n",
       "    .dataframe tbody tr th:only-of-type {\n",
       "        vertical-align: middle;\n",
       "    }\n",
       "\n",
       "    .dataframe tbody tr th {\n",
       "        vertical-align: top;\n",
       "    }\n",
       "\n",
       "    .dataframe thead th {\n",
       "        text-align: right;\n",
       "    }\n",
       "</style>\n",
       "<table border=\"1\" class=\"dataframe\">\n",
       "  <thead>\n",
       "    <tr style=\"text-align: right;\">\n",
       "      <th></th>\n",
       "      <th>trip_id</th>\n",
       "      <th>trip_duration_seconds</th>\n",
       "      <th>from_station_id</th>\n",
       "      <th>trip_start_time</th>\n",
       "      <th>start_time_hour</th>\n",
       "      <th>start_time_minute</th>\n",
       "      <th>from_station_name</th>\n",
       "      <th>to_station_id</th>\n",
       "      <th>trip_stop_time</th>\n",
       "      <th>stop_time_hour</th>\n",
       "      <th>stop_time_minute</th>\n",
       "      <th>to_station_name</th>\n",
       "      <th>user_type</th>\n",
       "    </tr>\n",
       "  </thead>\n",
       "  <tbody>\n",
       "    <tr>\n",
       "      <th>0</th>\n",
       "      <td>2383648</td>\n",
       "      <td>393</td>\n",
       "      <td>7018</td>\n",
       "      <td>2018-01-01 00:47:00</td>\n",
       "      <td>0</td>\n",
       "      <td>47</td>\n",
       "      <td>Bremner Blvd / Rees St</td>\n",
       "      <td>7176</td>\n",
       "      <td>2018-01-01 00:54:00</td>\n",
       "      <td>0</td>\n",
       "      <td>54</td>\n",
       "      <td>Bathurst St / Fort York Blvd</td>\n",
       "      <td>0</td>\n",
       "    </tr>\n",
       "    <tr>\n",
       "      <th>1</th>\n",
       "      <td>2383649</td>\n",
       "      <td>625</td>\n",
       "      <td>7184</td>\n",
       "      <td>2018-01-01 00:52:00</td>\n",
       "      <td>0</td>\n",
       "      <td>52</td>\n",
       "      <td>Ossington Ave / College St</td>\n",
       "      <td>7191</td>\n",
       "      <td>2018-01-01 01:03:00</td>\n",
       "      <td>1</td>\n",
       "      <td>3</td>\n",
       "      <td>Central Tech  (Harbord St)</td>\n",
       "      <td>0</td>\n",
       "    </tr>\n",
       "    <tr>\n",
       "      <th>2</th>\n",
       "      <td>2383650</td>\n",
       "      <td>233</td>\n",
       "      <td>7235</td>\n",
       "      <td>2018-01-01 00:55:00</td>\n",
       "      <td>0</td>\n",
       "      <td>55</td>\n",
       "      <td>Bay St / College St (West Side) - SMART</td>\n",
       "      <td>7021</td>\n",
       "      <td>2018-01-01 00:59:00</td>\n",
       "      <td>0</td>\n",
       "      <td>59</td>\n",
       "      <td>Bay St / Albert St</td>\n",
       "      <td>0</td>\n",
       "    </tr>\n",
       "    <tr>\n",
       "      <th>3</th>\n",
       "      <td>2383651</td>\n",
       "      <td>1138</td>\n",
       "      <td>7202</td>\n",
       "      <td>2018-01-01 00:57:00</td>\n",
       "      <td>0</td>\n",
       "      <td>57</td>\n",
       "      <td>Queen St W / York St (City Hall)</td>\n",
       "      <td>7020</td>\n",
       "      <td>2018-01-01 01:16:00</td>\n",
       "      <td>1</td>\n",
       "      <td>16</td>\n",
       "      <td>Phoebe St / Spadina Ave</td>\n",
       "      <td>0</td>\n",
       "    </tr>\n",
       "    <tr>\n",
       "      <th>4</th>\n",
       "      <td>2383652</td>\n",
       "      <td>703</td>\n",
       "      <td>7004</td>\n",
       "      <td>2018-01-01 01:00:00</td>\n",
       "      <td>1</td>\n",
       "      <td>0</td>\n",
       "      <td>University Ave / Elm St</td>\n",
       "      <td>7060</td>\n",
       "      <td>2018-01-01 01:12:00</td>\n",
       "      <td>1</td>\n",
       "      <td>12</td>\n",
       "      <td>Princess St / Adelaide St E</td>\n",
       "      <td>0</td>\n",
       "    </tr>\n",
       "  </tbody>\n",
       "</table>\n",
       "</div>"
      ],
      "text/plain": [
       "   trip_id  trip_duration_seconds  from_station_id     trip_start_time  \\\n",
       "0  2383648                    393             7018 2018-01-01 00:47:00   \n",
       "1  2383649                    625             7184 2018-01-01 00:52:00   \n",
       "2  2383650                    233             7235 2018-01-01 00:55:00   \n",
       "3  2383651                   1138             7202 2018-01-01 00:57:00   \n",
       "4  2383652                    703             7004 2018-01-01 01:00:00   \n",
       "\n",
       "   start_time_hour  start_time_minute  \\\n",
       "0                0                 47   \n",
       "1                0                 52   \n",
       "2                0                 55   \n",
       "3                0                 57   \n",
       "4                1                  0   \n",
       "\n",
       "                         from_station_name  to_station_id      trip_stop_time  \\\n",
       "0                   Bremner Blvd / Rees St           7176 2018-01-01 00:54:00   \n",
       "1               Ossington Ave / College St           7191 2018-01-01 01:03:00   \n",
       "2  Bay St / College St (West Side) - SMART           7021 2018-01-01 00:59:00   \n",
       "3         Queen St W / York St (City Hall)           7020 2018-01-01 01:16:00   \n",
       "4                  University Ave / Elm St           7060 2018-01-01 01:12:00   \n",
       "\n",
       "   stop_time_hour  stop_time_minute               to_station_name  user_type  \n",
       "0               0                54  Bathurst St / Fort York Blvd          0  \n",
       "1               1                 3    Central Tech  (Harbord St)          0  \n",
       "2               0                59            Bay St / Albert St          0  \n",
       "3               1                16       Phoebe St / Spadina Ave          0  \n",
       "4               1                12   Princess St / Adelaide St E          0  "
      ]
     },
     "execution_count": 50,
     "metadata": {},
     "output_type": "execute_result"
    }
   ],
   "source": [
    "df_bikeshare.head()"
   ]
  },
  {
   "cell_type": "markdown",
   "metadata": {},
   "source": [
    "##### Plotting Penyebaran Data from_station_id dan start_time_hour Berdasarkan Label user_type"
   ]
  },
  {
   "cell_type": "code",
   "execution_count": 51,
   "metadata": {},
   "outputs": [
    {
     "data": {
      "image/png": "[encoded data removed]",
      "text/plain": [
       "<Figure size 432x288 with 1 Axes>"
      ]
     },
     "metadata": {
      "needs_background": "light"
     },
     "output_type": "display_data"
    }
   ],
   "source": [
    "ax = df_bikeshare[df_bikeshare['user_type'] == 0][0:50].plot(kind='scatter', x='from_station_id', y='start_time_hour', color='DarkBlue', label='Annual Member');\n",
    "df_bikeshare[df_bikeshare['user_type'] == 1][0:50].plot(kind='scatter', x='from_station_id', y='start_time_hour', color='Yellow', label='Casual Member', ax=ax);\n",
    "plt.show()"
   ]
  },
  {
   "cell_type": "code",
   "execution_count": 73,
   "metadata": {},
   "outputs": [
    {
     "data": {
      "text/plain": [
       "trip_id                           int64\n",
       "trip_duration_seconds             int64\n",
       "from_station_id                   int64\n",
       "trip_start_time          datetime64[ns]\n",
       "start_time_hour                   int32\n",
       "start_time_minute                 int32\n",
       "from_station_name                object\n",
       "to_station_id                     int64\n",
       "trip_stop_time           datetime64[ns]\n",
       "stop_time_hour                    int32\n",
       "stop_time_minute                  int32\n",
       "to_station_name                  object\n",
       "user_type                          int8\n",
       "dtype: object"
      ]
     },
     "execution_count": 73,
     "metadata": {},
     "output_type": "execute_result"
    }
   ],
   "source": [
    "df_bikeshare.dtypes"
   ]
  },
  {
   "cell_type": "markdown",
   "metadata": {},
   "source": [
    "#### Membuat Variabel X (Independent Variabel/Predictor) yang nilainya berisi data dari DataFrame feature_df diantaranya\n",
    "'trip_duration_seconds','from_station_id','start_time_hour','start_time_minute','to_station_id','stop_time_hour','stop_time_minute'\n",
    "<br> \n",
    "<br> \n",
    "Mengambil Sampel Dari Data X untuk Review Yang dimulai dari baris/index ke 15 sampe ke 20"
   ]
  },
  {
   "cell_type": "code",
   "execution_count": 74,
   "metadata": {},
   "outputs": [
    {
     "data": {
      "text/plain": [
       "array([[ 797, 7160,    2,   25, 7136,    2,   38],\n",
       "       [ 352, 7140,    2,   29, 7003,    2,   35],\n",
       "       [ 382, 7149,    2,   30, 7153,    2,   36],\n",
       "       [ 433, 7111,    2,   45, 7176,    2,   52],\n",
       "       [ 589, 7067,    2,   53, 7259,    3,    3]], dtype=int64)"
      ]
     },
     "execution_count": 74,
     "metadata": {},
     "output_type": "execute_result"
    }
   ],
   "source": [
    "feature_df = df_bikeshare[['trip_duration_seconds','from_station_id','start_time_hour','start_time_minute','to_station_id','stop_time_hour','stop_time_minute']].values\n",
    "X = np.asarray(feature_df)\n",
    "X[15:20]"
   ]
  },
  {
   "cell_type": "markdown",
   "metadata": {},
   "source": [
    "#### Membuat Variabel y (Dependent Variabel/Target) yang nilainya berisi data dari\n",
    "'user_type'\n",
    "<br> \n",
    "<br> \n",
    "Mengambil Sampel Dari Data y untuk Review Yang dimulai dari baris/index ke 15 sampe ke 20"
   ]
  },
  {
   "cell_type": "code",
   "execution_count": 75,
   "metadata": {},
   "outputs": [
    {
     "data": {
      "text/plain": [
       "array([1, 0, 0, 0, 0], dtype=int8)"
      ]
     },
     "execution_count": 75,
     "metadata": {},
     "output_type": "execute_result"
    }
   ],
   "source": [
    "y = np.asarray(df_bikeshare['user_type'])\n",
    "y [15:20]"
   ]
  },
  {
   "cell_type": "markdown",
   "metadata": {},
   "source": [
    "#### Mensplit Data Menjadi Data Trainning (sebanyak 80%) dan Data Test (sebanyak 20%) "
   ]
  },
  {
   "cell_type": "code",
   "execution_count": 76,
   "metadata": {},
   "outputs": [
    {
     "name": "stdout",
     "output_type": "stream",
     "text": [
      "Train set: (142847, 7) (142847,)\n",
      "Test set: (35712, 7) (35712,)\n"
     ]
    }
   ],
   "source": [
    "X_train, X_test, y_train, y_test = train_test_split( X, y, test_size=0.2, random_state=4)\n",
    "print ('Train set:', X_train.shape,  y_train.shape)\n",
    "print ('Test set:', X_test.shape,  y_test.shape)"
   ]
  },
  {
   "cell_type": "markdown",
   "metadata": {},
   "source": [
    "### Predicting\n",
    "we can use the model to predict the test set:"
   ]
  },
  {
   "cell_type": "markdown",
   "metadata": {},
   "source": [
    "#### Membuat Model SVM Menggunakan Data Trainning Dengan Bantuan sklearn dimana Garis/Separator (pemisah data) yang dipakai adalah\n",
    "##### RBF (Radian Basis Function)"
   ]
  },
  {
   "cell_type": "code",
   "execution_count": 56,
   "metadata": {},
   "outputs": [
    {
     "data": {
      "text/plain": [
       "SVC()"
      ]
     },
     "execution_count": 56,
     "metadata": {},
     "output_type": "execute_result"
    }
   ],
   "source": [
    "from sklearn import svm\n",
    "clf = svm.SVC(kernel='rbf')\n",
    "clf.fit(X_train, y_train)"
   ]
  },
  {
   "cell_type": "code",
   "execution_count": 77,
   "metadata": {},
   "outputs": [
    {
     "data": {
      "text/html": [
       "<div>\n",
       "<style scoped>\n",
       "    .dataframe tbody tr th:only-of-type {\n",
       "        vertical-align: middle;\n",
       "    }\n",
       "\n",
       "    .dataframe tbody tr th {\n",
       "        vertical-align: top;\n",
       "    }\n",
       "\n",
       "    .dataframe thead th {\n",
       "        text-align: right;\n",
       "    }\n",
       "</style>\n",
       "<table border=\"1\" class=\"dataframe\">\n",
       "  <thead>\n",
       "    <tr style=\"text-align: right;\">\n",
       "      <th></th>\n",
       "      <th>trip_duration_seconds</th>\n",
       "      <th>from_station_id</th>\n",
       "      <th>start_time_hour</th>\n",
       "      <th>start_time_minute</th>\n",
       "      <th>to_station_id</th>\n",
       "      <th>stop_time_hour</th>\n",
       "      <th>stop_time_minute</th>\n",
       "    </tr>\n",
       "  </thead>\n",
       "  <tbody>\n",
       "    <tr>\n",
       "      <th>0</th>\n",
       "      <td>460</td>\n",
       "      <td>7037</td>\n",
       "      <td>16</td>\n",
       "      <td>18</td>\n",
       "      <td>7022</td>\n",
       "      <td>16</td>\n",
       "      <td>25</td>\n",
       "    </tr>\n",
       "    <tr>\n",
       "      <th>1</th>\n",
       "      <td>1178</td>\n",
       "      <td>7148</td>\n",
       "      <td>11</td>\n",
       "      <td>32</td>\n",
       "      <td>7259</td>\n",
       "      <td>11</td>\n",
       "      <td>52</td>\n",
       "    </tr>\n",
       "    <tr>\n",
       "      <th>2</th>\n",
       "      <td>463</td>\n",
       "      <td>7006</td>\n",
       "      <td>19</td>\n",
       "      <td>38</td>\n",
       "      <td>7031</td>\n",
       "      <td>19</td>\n",
       "      <td>46</td>\n",
       "    </tr>\n",
       "    <tr>\n",
       "      <th>3</th>\n",
       "      <td>952</td>\n",
       "      <td>7285</td>\n",
       "      <td>16</td>\n",
       "      <td>37</td>\n",
       "      <td>7176</td>\n",
       "      <td>16</td>\n",
       "      <td>53</td>\n",
       "    </tr>\n",
       "    <tr>\n",
       "      <th>4</th>\n",
       "      <td>850</td>\n",
       "      <td>7069</td>\n",
       "      <td>22</td>\n",
       "      <td>17</td>\n",
       "      <td>7206</td>\n",
       "      <td>22</td>\n",
       "      <td>31</td>\n",
       "    </tr>\n",
       "    <tr>\n",
       "      <th>5</th>\n",
       "      <td>435</td>\n",
       "      <td>7271</td>\n",
       "      <td>8</td>\n",
       "      <td>6</td>\n",
       "      <td>7004</td>\n",
       "      <td>8</td>\n",
       "      <td>13</td>\n",
       "    </tr>\n",
       "    <tr>\n",
       "      <th>6</th>\n",
       "      <td>272</td>\n",
       "      <td>7108</td>\n",
       "      <td>15</td>\n",
       "      <td>34</td>\n",
       "      <td>7099</td>\n",
       "      <td>15</td>\n",
       "      <td>39</td>\n",
       "    </tr>\n",
       "    <tr>\n",
       "      <th>7</th>\n",
       "      <td>853</td>\n",
       "      <td>7046</td>\n",
       "      <td>7</td>\n",
       "      <td>46</td>\n",
       "      <td>7047</td>\n",
       "      <td>8</td>\n",
       "      <td>0</td>\n",
       "    </tr>\n",
       "    <tr>\n",
       "      <th>8</th>\n",
       "      <td>775</td>\n",
       "      <td>7055</td>\n",
       "      <td>22</td>\n",
       "      <td>38</td>\n",
       "      <td>7069</td>\n",
       "      <td>22</td>\n",
       "      <td>50</td>\n",
       "    </tr>\n",
       "    <tr>\n",
       "      <th>9</th>\n",
       "      <td>481</td>\n",
       "      <td>7117</td>\n",
       "      <td>8</td>\n",
       "      <td>1</td>\n",
       "      <td>7044</td>\n",
       "      <td>8</td>\n",
       "      <td>9</td>\n",
       "    </tr>\n",
       "    <tr>\n",
       "      <th>10</th>\n",
       "      <td>339</td>\n",
       "      <td>7235</td>\n",
       "      <td>8</td>\n",
       "      <td>19</td>\n",
       "      <td>7282</td>\n",
       "      <td>8</td>\n",
       "      <td>25</td>\n",
       "    </tr>\n",
       "    <tr>\n",
       "      <th>11</th>\n",
       "      <td>359</td>\n",
       "      <td>7045</td>\n",
       "      <td>8</td>\n",
       "      <td>33</td>\n",
       "      <td>7013</td>\n",
       "      <td>8</td>\n",
       "      <td>39</td>\n",
       "    </tr>\n",
       "    <tr>\n",
       "      <th>12</th>\n",
       "      <td>1026</td>\n",
       "      <td>7047</td>\n",
       "      <td>19</td>\n",
       "      <td>29</td>\n",
       "      <td>7104</td>\n",
       "      <td>19</td>\n",
       "      <td>47</td>\n",
       "    </tr>\n",
       "    <tr>\n",
       "      <th>13</th>\n",
       "      <td>1365</td>\n",
       "      <td>7158</td>\n",
       "      <td>10</td>\n",
       "      <td>22</td>\n",
       "      <td>7160</td>\n",
       "      <td>10</td>\n",
       "      <td>45</td>\n",
       "    </tr>\n",
       "    <tr>\n",
       "      <th>14</th>\n",
       "      <td>321</td>\n",
       "      <td>7022</td>\n",
       "      <td>9</td>\n",
       "      <td>26</td>\n",
       "      <td>7020</td>\n",
       "      <td>9</td>\n",
       "      <td>31</td>\n",
       "    </tr>\n",
       "    <tr>\n",
       "      <th>15</th>\n",
       "      <td>939</td>\n",
       "      <td>7274</td>\n",
       "      <td>17</td>\n",
       "      <td>37</td>\n",
       "      <td>7011</td>\n",
       "      <td>17</td>\n",
       "      <td>52</td>\n",
       "    </tr>\n",
       "    <tr>\n",
       "      <th>16</th>\n",
       "      <td>265</td>\n",
       "      <td>7055</td>\n",
       "      <td>16</td>\n",
       "      <td>14</td>\n",
       "      <td>7114</td>\n",
       "      <td>16</td>\n",
       "      <td>18</td>\n",
       "    </tr>\n",
       "    <tr>\n",
       "      <th>17</th>\n",
       "      <td>181</td>\n",
       "      <td>7068</td>\n",
       "      <td>7</td>\n",
       "      <td>34</td>\n",
       "      <td>7068</td>\n",
       "      <td>7</td>\n",
       "      <td>37</td>\n",
       "    </tr>\n",
       "    <tr>\n",
       "      <th>18</th>\n",
       "      <td>799</td>\n",
       "      <td>7046</td>\n",
       "      <td>9</td>\n",
       "      <td>33</td>\n",
       "      <td>7015</td>\n",
       "      <td>9</td>\n",
       "      <td>47</td>\n",
       "    </tr>\n",
       "    <tr>\n",
       "      <th>19</th>\n",
       "      <td>730</td>\n",
       "      <td>7170</td>\n",
       "      <td>18</td>\n",
       "      <td>44</td>\n",
       "      <td>7057</td>\n",
       "      <td>18</td>\n",
       "      <td>57</td>\n",
       "    </tr>\n",
       "  </tbody>\n",
       "</table>\n",
       "</div>"
      ],
      "text/plain": [
       "    trip_duration_seconds  from_station_id  start_time_hour  \\\n",
       "0                     460             7037               16   \n",
       "1                    1178             7148               11   \n",
       "2                     463             7006               19   \n",
       "3                     952             7285               16   \n",
       "4                     850             7069               22   \n",
       "5                     435             7271                8   \n",
       "6                     272             7108               15   \n",
       "7                     853             7046                7   \n",
       "8                     775             7055               22   \n",
       "9                     481             7117                8   \n",
       "10                    339             7235                8   \n",
       "11                    359             7045                8   \n",
       "12                   1026             7047               19   \n",
       "13                   1365             7158               10   \n",
       "14                    321             7022                9   \n",
       "15                    939             7274               17   \n",
       "16                    265             7055               16   \n",
       "17                    181             7068                7   \n",
       "18                    799             7046                9   \n",
       "19                    730             7170               18   \n",
       "\n",
       "    start_time_minute  to_station_id  stop_time_hour  stop_time_minute  \n",
       "0                  18           7022              16                25  \n",
       "1                  32           7259              11                52  \n",
       "2                  38           7031              19                46  \n",
       "3                  37           7176              16                53  \n",
       "4                  17           7206              22                31  \n",
       "5                   6           7004               8                13  \n",
       "6                  34           7099              15                39  \n",
       "7                  46           7047               8                 0  \n",
       "8                  38           7069              22                50  \n",
       "9                   1           7044               8                 9  \n",
       "10                 19           7282               8                25  \n",
       "11                 33           7013               8                39  \n",
       "12                 29           7104              19                47  \n",
       "13                 22           7160              10                45  \n",
       "14                 26           7020               9                31  \n",
       "15                 37           7011              17                52  \n",
       "16                 14           7114              16                18  \n",
       "17                 34           7068               7                37  \n",
       "18                 33           7015               9                47  \n",
       "19                 44           7057              18                57  "
      ]
     },
     "execution_count": 77,
     "metadata": {},
     "output_type": "execute_result"
    }
   ],
   "source": [
    "data_test = pd.DataFrame(X_test,columns=['trip_duration_seconds','from_station_id','start_time_hour','start_time_minute','to_station_id','stop_time_hour','stop_time_minute'])\n",
    "data_test.head(20)"
   ]
  },
  {
   "cell_type": "markdown",
   "metadata": {},
   "source": [
    "##### Memasukan Historical Data Yang Ingin Diprediksi (Dimensi Data Harus Sama Dengan Variabel X)"
   ]
  },
  {
   "cell_type": "code",
   "execution_count": 78,
   "metadata": {},
   "outputs": [
    {
     "data": {
      "text/plain": [
       "array([0, 0, 0, 0, 0, 0, 0, 0, 0, 0, 0, 0, 0, 0, 0, 0, 0, 0, 0, 0],\n",
       "      dtype=int8)"
      ]
     },
     "execution_count": 78,
     "metadata": {},
     "output_type": "execute_result"
    }
   ],
   "source": [
    "yhat = clf.predict(X_test)\n",
    "yhat [0:20]"
   ]
  },
  {
   "cell_type": "code",
   "execution_count": 79,
   "metadata": {},
   "outputs": [
    {
     "data": {
      "text/html": [
       "<div>\n",
       "<style scoped>\n",
       "    .dataframe tbody tr th:only-of-type {\n",
       "        vertical-align: middle;\n",
       "    }\n",
       "\n",
       "    .dataframe tbody tr th {\n",
       "        vertical-align: top;\n",
       "    }\n",
       "\n",
       "    .dataframe thead th {\n",
       "        text-align: right;\n",
       "    }\n",
       "</style>\n",
       "<table border=\"1\" class=\"dataframe\">\n",
       "  <thead>\n",
       "    <tr style=\"text-align: right;\">\n",
       "      <th></th>\n",
       "      <th>trip_duration_seconds</th>\n",
       "      <th>from_station_id</th>\n",
       "      <th>start_time_hour</th>\n",
       "      <th>start_time_minute</th>\n",
       "      <th>to_station_id</th>\n",
       "      <th>stop_time_hour</th>\n",
       "      <th>stop_time_minute</th>\n",
       "      <th>user_type</th>\n",
       "    </tr>\n",
       "  </thead>\n",
       "  <tbody>\n",
       "    <tr>\n",
       "      <th>0</th>\n",
       "      <td>460</td>\n",
       "      <td>7037</td>\n",
       "      <td>16</td>\n",
       "      <td>18</td>\n",
       "      <td>7022</td>\n",
       "      <td>16</td>\n",
       "      <td>25</td>\n",
       "      <td>0</td>\n",
       "    </tr>\n",
       "    <tr>\n",
       "      <th>1</th>\n",
       "      <td>1178</td>\n",
       "      <td>7148</td>\n",
       "      <td>11</td>\n",
       "      <td>32</td>\n",
       "      <td>7259</td>\n",
       "      <td>11</td>\n",
       "      <td>52</td>\n",
       "      <td>0</td>\n",
       "    </tr>\n",
       "    <tr>\n",
       "      <th>2</th>\n",
       "      <td>463</td>\n",
       "      <td>7006</td>\n",
       "      <td>19</td>\n",
       "      <td>38</td>\n",
       "      <td>7031</td>\n",
       "      <td>19</td>\n",
       "      <td>46</td>\n",
       "      <td>0</td>\n",
       "    </tr>\n",
       "    <tr>\n",
       "      <th>3</th>\n",
       "      <td>952</td>\n",
       "      <td>7285</td>\n",
       "      <td>16</td>\n",
       "      <td>37</td>\n",
       "      <td>7176</td>\n",
       "      <td>16</td>\n",
       "      <td>53</td>\n",
       "      <td>0</td>\n",
       "    </tr>\n",
       "    <tr>\n",
       "      <th>4</th>\n",
       "      <td>850</td>\n",
       "      <td>7069</td>\n",
       "      <td>22</td>\n",
       "      <td>17</td>\n",
       "      <td>7206</td>\n",
       "      <td>22</td>\n",
       "      <td>31</td>\n",
       "      <td>0</td>\n",
       "    </tr>\n",
       "  </tbody>\n",
       "</table>\n",
       "</div>"
      ],
      "text/plain": [
       "   trip_duration_seconds  from_station_id  start_time_hour  start_time_minute  \\\n",
       "0                    460             7037               16                 18   \n",
       "1                   1178             7148               11                 32   \n",
       "2                    463             7006               19                 38   \n",
       "3                    952             7285               16                 37   \n",
       "4                    850             7069               22                 17   \n",
       "\n",
       "   to_station_id  stop_time_hour  stop_time_minute  user_type  \n",
       "0           7022              16                25          0  \n",
       "1           7259              11                52          0  \n",
       "2           7031              19                46          0  \n",
       "3           7176              16                53          0  \n",
       "4           7206              22                31          0  "
      ]
     },
     "execution_count": 79,
     "metadata": {},
     "output_type": "execute_result"
    }
   ],
   "source": [
    "data_test[\"user_type\"] = yhat\n",
    "data_test.head()"
   ]
  },
  {
   "cell_type": "markdown",
   "metadata": {},
   "source": [
    "### Plotting Perbandingan Confussion Matrix antara Actual Value dan Predict Value"
   ]
  },
  {
   "cell_type": "code",
   "execution_count": 59,
   "metadata": {},
   "outputs": [],
   "source": [
    "from sklearn.metrics import classification_report, confusion_matrix\n",
    "import itertools"
   ]
  },
  {
   "cell_type": "code",
   "execution_count": 60,
   "metadata": {},
   "outputs": [],
   "source": [
    "def plot_confusion_matrix(cm, classes,\n",
    "                          normalize=False,\n",
    "                          title='Confusion matrix',\n",
    "                          cmap=plt.cm.Blues):\n",
    "    \"\"\"\n",
    "    This function prints and plots the confusion matrix.\n",
    "    Normalization can be applied by setting `normalize=True`.\n",
    "    \"\"\"\n",
    "    if normalize:\n",
    "        cm = cm.astype('float') / cm.sum(axis=1)[:, np.newaxis]\n",
    "        print(\"Normalized confusion matrix\")\n",
    "    else:\n",
    "        print('Confusion matrix, without normalization')\n",
    "\n",
    "    print(cm)\n",
    "\n",
    "    plt.imshow(cm, interpolation='nearest', cmap=cmap)\n",
    "    plt.title(title)\n",
    "    plt.colorbar()\n",
    "    tick_marks = np.arange(len(classes))\n",
    "    plt.xticks(tick_marks, classes, rotation=45)\n",
    "    plt.yticks(tick_marks, classes)\n",
    "\n",
    "    fmt = '.2f' if normalize else 'd'\n",
    "    thresh = cm.max() / 2.\n",
    "    for i, j in itertools.product(range(cm.shape[0]), range(cm.shape[1])):\n",
    "        plt.text(j, i, format(cm[i, j], fmt),\n",
    "                 horizontalalignment=\"center\",\n",
    "                 color=\"white\" if cm[i, j] > thresh else \"black\")\n",
    "\n",
    "    plt.tight_layout()\n",
    "    plt.ylabel('True label')\n",
    "    plt.xlabel('Predicted label')"
   ]
  },
  {
   "cell_type": "code",
   "execution_count": 61,
   "metadata": {},
   "outputs": [
    {
     "name": "stdout",
     "output_type": "stream",
     "text": [
      "              precision    recall  f1-score   support\n",
      "\n",
      "           0       0.95      1.00      0.97     33653\n",
      "           1       0.85      0.10      0.17      2059\n",
      "\n",
      "    accuracy                           0.95     35712\n",
      "   macro avg       0.90      0.55      0.57     35712\n",
      "weighted avg       0.94      0.95      0.93     35712\n",
      "\n",
      "Confusion matrix, without normalization\n",
      "[[33617    36]\n",
      " [ 1861   198]]\n"
     ]
    },
    {
     "data": {
      "image/png": "[encoded data removed]",
      "text/plain": [
       "<Figure size 504x504 with 2 Axes>"
      ]
     },
     "metadata": {
      "needs_background": "light"
     },
     "output_type": "display_data"
    }
   ],
   "source": [
    "# Compute confusion matrix\n",
    "cnf_matrix = confusion_matrix(y_test, yhat)\n",
    "np.set_printoptions(precision=2)\n",
    "\n",
    "print (classification_report(y_test, yhat))\n",
    "\n",
    "# Plot non-normalized confusion matrix\n",
    "plt.figure(figsize=(7,7))\n",
    "plot_confusion_matrix(cnf_matrix, classes=['Annual Member(0)','Casual Member(1)'],normalize= False,  title='Confusion matrix')"
   ]
  },
  {
   "cell_type": "markdown",
   "metadata": {},
   "source": [
    "### Model Evaluation\n",
    "we can use the F1 Score and Jaccard Score to evaluate the model:"
   ]
  },
  {
   "cell_type": "markdown",
   "metadata": {},
   "source": [
    "##### Evaluasi Model dengan F1 Score"
   ]
  },
  {
   "cell_type": "code",
   "execution_count": 62,
   "metadata": {},
   "outputs": [
    {
     "name": "stdout",
     "output_type": "stream",
     "text": [
      "F1 Score Evaluation\n",
      "Train set Accuracy:  0.9272588594757558\n",
      "Test set Accuracy:  0.9264428738515774\n"
     ]
    }
   ],
   "source": [
    "from sklearn.metrics import f1_score\n",
    "print(\"F1 Score Evaluation\")\n",
    "print(\"Train set Accuracy: \", f1_score(y_train, clf.predict(X_train), average='weighted'))\n",
    "print(\"Test set Accuracy: \", f1_score(y_test, yhat, average='weighted') )"
   ]
  },
  {
   "cell_type": "markdown",
   "metadata": {},
   "source": [
    " ##### Evaluasi Model dengan Jaccard Score"
   ]
  },
  {
   "cell_type": "code",
   "execution_count": 63,
   "metadata": {},
   "outputs": [
    {
     "name": "stdout",
     "output_type": "stream",
     "text": [
      "Jaccard Score Evaluation\n",
      "Train set Accuracy:  0.9474612697501522\n",
      "Test set Accuracy:  0.9468806003584229\n"
     ]
    }
   ],
   "source": [
    "from sklearn import metrics\n",
    "print(\"Jaccard Score Evaluation\")\n",
    "print(\"Train set Accuracy: \", metrics.accuracy_score(y_train, clf.predict(X_train)))\n",
    "print(\"Test set Accuracy: \", metrics.accuracy_score(y_test, yhat))"
   ]
  }
 ],
 "metadata": {
  "kernelspec": {
   "display_name": "Python 3",
   "language": "python",
   "name": "python3"
  },
  "language_info": {
   "codemirror_mode": {
    "name": "ipython",
    "version": 3
   },
   "file_extension": ".py",
   "mimetype": "text/x-python",
   "name": "python",
   "nbconvert_exporter": "python",
   "pygments_lexer": "ipython3",
   "version": "3.8.3"
  }
 },
 "nbformat": 4,
 "nbformat_minor": 4
}
